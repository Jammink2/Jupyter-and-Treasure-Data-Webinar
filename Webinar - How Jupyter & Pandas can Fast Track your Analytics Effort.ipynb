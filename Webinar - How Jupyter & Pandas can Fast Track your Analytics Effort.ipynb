{
 "cells": [
  {
   "cell_type": "code",
   "execution_count": 2,
   "metadata": {
    "collapsed": false
   },
   "outputs": [],
   "source": [
    "%matplotlib inline\n",
    "\n",
    "import os\n",
    "import pandas as pd\n",
    "import pandas_td as td\n",
    "\n",
    "#Initialize our connection to Treasure Data\n",
    "con = td.connect(apikey=os.environ['MASTER_TD_API_KEY'], endpoint='https://api.treasuredata.com')"
   ]
  },
  {
   "cell_type": "code",
   "execution_count": 3,
   "metadata": {
    "collapsed": false
   },
   "outputs": [
    {
     "data": {
      "text/html": [
       "<div>\n",
       "<table border=\"1\" class=\"dataframe\">\n",
       "  <thead>\n",
       "    <tr style=\"text-align: right;\">\n",
       "      <th></th>\n",
       "      <th>name</th>\n",
       "      <th>count</th>\n",
       "      <th>estimated_storage_size</th>\n",
       "      <th>last_log_timestamp</th>\n",
       "      <th>created_at</th>\n",
       "    </tr>\n",
       "  </thead>\n",
       "  <tbody>\n",
       "    <tr>\n",
       "      <th>0</th>\n",
       "      <td>www_access</td>\n",
       "      <td>5000</td>\n",
       "      <td>0</td>\n",
       "      <td>2014-10-04 01:13:15+00:00</td>\n",
       "      <td>2014-10-04 01:13:12+00:00</td>\n",
       "    </tr>\n",
       "    <tr>\n",
       "      <th>1</th>\n",
       "      <td>nasdaq</td>\n",
       "      <td>8807278</td>\n",
       "      <td>168205061</td>\n",
       "      <td>1970-01-01 00:00:00+00:00</td>\n",
       "      <td>2014-10-08 02:57:38+00:00</td>\n",
       "    </tr>\n",
       "  </tbody>\n",
       "</table>\n",
       "</div>"
      ],
      "text/plain": [
       "         name    count  estimated_storage_size        last_log_timestamp  \\\n",
       "0  www_access     5000                       0 2014-10-04 01:13:15+00:00   \n",
       "1      nasdaq  8807278               168205061 1970-01-01 00:00:00+00:00   \n",
       "\n",
       "                 created_at  \n",
       "0 2014-10-04 01:13:12+00:00  \n",
       "1 2014-10-08 02:57:38+00:00  "
      ]
     },
     "execution_count": 3,
     "metadata": {},
     "output_type": "execute_result"
    }
   ],
   "source": [
    "con.tables('sample_datasets')"
   ]
  },
  {
   "cell_type": "code",
   "execution_count": 5,
   "metadata": {
    "collapsed": false
   },
   "outputs": [
    {
     "data": {
      "text/html": [
       "<div>\n",
       "<table border=\"1\" class=\"dataframe\">\n",
       "  <thead>\n",
       "    <tr style=\"text-align: right;\">\n",
       "      <th></th>\n",
       "      <th>symbol</th>\n",
       "      <th>open</th>\n",
       "      <th>volume</th>\n",
       "      <th>high</th>\n",
       "      <th>low</th>\n",
       "      <th>close</th>\n",
       "    </tr>\n",
       "    <tr>\n",
       "      <th>time</th>\n",
       "      <th></th>\n",
       "      <th></th>\n",
       "      <th></th>\n",
       "      <th></th>\n",
       "      <th></th>\n",
       "      <th></th>\n",
       "    </tr>\n",
       "  </thead>\n",
       "  <tbody>\n",
       "    <tr>\n",
       "      <th>1979-06-14 16:00:00</th>\n",
       "      <td>ASEI</td>\n",
       "      <td>0</td>\n",
       "      <td>3780</td>\n",
       "      <td>6.3393</td>\n",
       "      <td>5.9822</td>\n",
       "      <td>6.2203</td>\n",
       "    </tr>\n",
       "    <tr>\n",
       "      <th>1979-06-14 16:00:00</th>\n",
       "      <td>ATRO</td>\n",
       "      <td>0</td>\n",
       "      <td>0</td>\n",
       "      <td>0.0000</td>\n",
       "      <td>0.0000</td>\n",
       "      <td>0.1930</td>\n",
       "    </tr>\n",
       "    <tr>\n",
       "      <th>1979-06-14 16:00:00</th>\n",
       "      <td>ALOG</td>\n",
       "      <td>0</td>\n",
       "      <td>20000</td>\n",
       "      <td>4.6250</td>\n",
       "      <td>4.4375</td>\n",
       "      <td>4.4375</td>\n",
       "    </tr>\n",
       "  </tbody>\n",
       "</table>\n",
       "</div>"
      ],
      "text/plain": [
       "                    symbol  open  volume    high     low   close\n",
       "time                                                            \n",
       "1979-06-14 16:00:00   ASEI     0    3780  6.3393  5.9822  6.2203\n",
       "1979-06-14 16:00:00   ATRO     0       0  0.0000  0.0000  0.1930\n",
       "1979-06-14 16:00:00   ALOG     0   20000  4.6250  4.4375  4.4375"
      ]
     },
     "execution_count": 5,
     "metadata": {},
     "output_type": "execute_result"
    }
   ],
   "source": [
    "#Query engine for Presto\n",
    "engine=con.query_engine(database='sample_datasets', type='presto')\n",
    "\n",
    "#Get 3 lines, converting time to DateTimeIndex\n",
    "td.read_td_table('nasdaq', engine, limit=3,\n",
    "                index_col='time', parse_dates={'time': 's'})"
   ]
  },
  {
   "cell_type": "code",
   "execution_count": 7,
   "metadata": {
    "collapsed": false
   },
   "outputs": [
    {
     "data": {
      "text/html": [
       "<div style=\"border-style: dashed; border-width: 1px;\">\n",
       "<div style=\"color: #888;\"># issued at 2015-11-18T18:27:28Z</div>URL: <a href=\"https://console.treasuredata.com/jobs/39910966\" target=\"_blank\">https://console.treasuredata.com/jobs/39910966</a><br>\n",
       "<div style=\"color: #888;\"># started at 2015-11-18T18:27:30Z</div><pre style=\"color: #c44;\"></pre>\n",
       "<pre>2015-11-18 18:27:30:   rows  pending  running   done / total\n",
       "            Stage-0:  37.2K        0        0      1 /     1\n",
       "            Stage-1:  37.2K        0        0      4 /     4</pre>Result size: 736,343 bytes<br>\n",
       "Download: 736,343 / 736,343 bytes (100.00%)<br>\n",
       "<div style=\"color: #888;\"># downloaded at 2015-11-18T18:27:34Z</div></div>\n"
      ],
      "text/plain": [
       "<IPython.core.display.HTML object>"
      ]
     },
     "metadata": {},
     "output_type": "display_data"
    },
    {
     "data": {
      "text/plain": [
       "<matplotlib.axes._subplots.AxesSubplot at 0x105b0cda0>"
      ]
     },
     "execution_count": 7,
     "metadata": {},
     "output_type": "execute_result"
    },
    {
     "data": {
      "image/png": "[encoded data removed]",
      "text/plain": [
       "<matplotlib.figure.Figure at 0x1066448d0>"
      ]
     },
     "metadata": {},
     "output_type": "display_data"
    }
   ],
   "source": [
    "#Get all rows from 2010-01-01 to 2010-02-01\n",
    "df = td.read_td_table('nasdaq', engine, limit=None,\n",
    "                     time_range=('2010-01-01', '2010-02-01'),\n",
    "                     index_col='time', parse_dates={'time': 's'})\n",
    "\n",
    "#Plot the sum of volumes, grouped by time (index level =0)\n",
    "df.groupby(level=0).volume.sum().plot()"
   ]
  },
  {
   "cell_type": "code",
   "execution_count": 8,
   "metadata": {
    "collapsed": false
   },
   "outputs": [
    {
     "data": {
      "text/html": [
       "<div style=\"border-style: dashed; border-width: 1px;\">\n",
       "<div style=\"color: #888;\"># issued at 2015-11-18T18:29:54Z</div>URL: <a href=\"https://console.treasuredata.com/jobs/39911242\" target=\"_blank\">https://console.treasuredata.com/jobs/39911242</a><br>\n",
       "<div style=\"color: #888;\"># started at 2015-11-18T18:29:56Z</div><pre style=\"color: #c44;\">\n",
       "** WARNING: time index filtering is not set on \n",
       "** This query could be very slow as a result.\n",
       "** Please see http://docs.treasure-data.com/articles/presto-performance-tuning#leveraging-time-based-partitioning</pre>\n",
       "<pre>2015-11-18 18:30:06:   rows  pending  running   done / total\n",
       "            Stage-0:  87.7K        0        0      1 /     1\n",
       "            Stage-1:   8.8M        0        0     38 /    38</pre>Result size: 1,786,695 bytes<br>\n",
       "Download: 1,786,695 / 1,786,695 bytes (100.00%)<br>\n",
       "<div style=\"color: #888;\"># downloaded at 2015-11-18T18:30:09Z</div></div>\n"
      ],
      "text/plain": [
       "<IPython.core.display.HTML object>"
      ]
     },
     "metadata": {},
     "output_type": "display_data"
    },
    {
     "data": {
      "text/plain": [
       "87670"
      ]
     },
     "execution_count": 8,
     "metadata": {},
     "output_type": "execute_result"
    }
   ],
   "source": [
    "#1-percent sample, with 100k rows\n",
    "df= td.read_td_table('nasdaq', engine, limit=100000,\n",
    "                    sample=0.01,\n",
    "                    index_col='time', parse_dates={'time': 's'})\n",
    "len(df)"
   ]
  },
  {
   "cell_type": "code",
   "execution_count": 9,
   "metadata": {
    "collapsed": false
   },
   "outputs": [
    {
     "data": {
      "text/html": [
       "<div style=\"border-style: dashed; border-width: 1px;\">\n",
       "<div style=\"color: #888;\"># issued at 2015-11-18T18:31:28Z</div>URL: <a href=\"https://console.treasuredata.com/jobs/39911627\" target=\"_blank\">https://console.treasuredata.com/jobs/39911627</a><br>\n",
       "<div style=\"color: #888;\"># started at 2015-11-18T18:31:30Z</div><pre style=\"color: #c44;\">\n",
       "** WARNING: time index filtering is not set on \n",
       "** This query could be very slow as a result.\n",
       "** Please see http://docs.treasure-data.com/articles/presto-performance-tuning#leveraging-time-based-partitioning</pre>\n",
       "<pre>2015-11-18 18:31:42:   rows  pending  running   done / total\n",
       "            Stage-0:     38        0        0      1 /     1\n",
       "            Stage-1:   8.8M        0        0     38 /    38</pre>Result size: 24 bytes<br>\n",
       "Download: 24 / 24 bytes (100.00%)<br>\n",
       "<div style=\"color: #888;\"># downloaded at 2015-11-18T18:31:44Z</div></div>\n"
      ],
      "text/plain": [
       "<IPython.core.display.HTML object>"
      ]
     },
     "metadata": {},
     "output_type": "display_data"
    },
    {
     "data": {
      "text/html": [
       "<div>\n",
       "<table border=\"1\" class=\"dataframe\">\n",
       "  <thead>\n",
       "    <tr style=\"text-align: right;\">\n",
       "      <th></th>\n",
       "      <th>_col0</th>\n",
       "    </tr>\n",
       "  </thead>\n",
       "  <tbody>\n",
       "    <tr>\n",
       "      <th>0</th>\n",
       "      <td>8522</td>\n",
       "    </tr>\n",
       "  </tbody>\n",
       "</table>\n",
       "</div>"
      ],
      "text/plain": [
       "   _col0\n",
       "0   8522"
      ]
     },
     "execution_count": 9,
     "metadata": {},
     "output_type": "execute_result"
    }
   ],
   "source": [
    "td.read_td_query('''\n",
    "select count(*) from nasdaq where symbol='AAPL'\n",
    "''', engine)"
   ]
  },
  {
   "cell_type": "code",
   "execution_count": 10,
   "metadata": {
    "collapsed": false
   },
   "outputs": [
    {
     "data": {
      "text/html": [
       "<div style=\"border-style: dashed; border-width: 1px;\">\n",
       "<div style=\"color: #888;\"># issued at 2015-11-18T18:33:48Z</div>URL: <a href=\"https://console.treasuredata.com/jobs/39911847\" target=\"_blank\">https://console.treasuredata.com/jobs/39911847</a><br>\n",
       "<div style=\"color: #888;\"># started at 2015-11-18T18:33:50Z</div><pre style=\"color: #c44;\">\n",
       "** WARNING: time index filtering is not set on \n",
       "** This query could be very slow as a result.\n",
       "** Please see http://docs.treasure-data.com/articles/presto-performance-tuning#leveraging-time-based-partitioning</pre>\n",
       "<pre>2015-11-18 18:34:01:   rows  pending  running   done / total\n",
       "            Stage-0:   8.5K        0        0      1 /     1\n",
       "            Stage-1:   8.8M        0        0     38 /    38</pre>Result size: 61,739 bytes<br>\n",
       "Download: 61,739 / 61,739 bytes (100.00%)<br>\n",
       "<div style=\"color: #888;\"># downloaded at 2015-11-18T18:34:02Z</div></div>\n"
      ],
      "text/plain": [
       "<IPython.core.display.HTML object>"
      ]
     },
     "metadata": {},
     "output_type": "display_data"
    },
    {
     "data": {
      "text/plain": [
       "<matplotlib.axes._subplots.AxesSubplot at 0x109d78048>"
      ]
     },
     "execution_count": 10,
     "metadata": {},
     "output_type": "execute_result"
    },
    {
     "data": {
      "image/png": "[encoded data removed]",
      "text/plain": [
       "<matplotlib.figure.Figure at 0x106644400>"
      ]
     },
     "metadata": {},
     "output_type": "display_data"
    }
   ],
   "source": [
    "df = td.read_td_query('''\n",
    "select time, close from nasdaq where symbol = 'AAPL'\n",
    "''', engine, index_col='time', parse_dates={'time': 's'})\n",
    "df.plot()"
   ]
  },
  {
   "cell_type": "code",
   "execution_count": null,
   "metadata": {
    "collapsed": true
   },
   "outputs": [],
   "source": []
  }
 ],
 "metadata": {
  "kernelspec": {
   "display_name": "Python 3",
   "language": "python",
   "name": "python3"
  },
  "language_info": {
   "codemirror_mode": {
    "name": "ipython",
    "version": 3
   },
   "file_extension": ".py",
   "mimetype": "text/x-python",
   "name": "python",
   "nbconvert_exporter": "python",
   "pygments_lexer": "ipython3",
   "version": "3.5.0"
  }
 },
 "nbformat": 4,
 "nbformat_minor": 0
}
